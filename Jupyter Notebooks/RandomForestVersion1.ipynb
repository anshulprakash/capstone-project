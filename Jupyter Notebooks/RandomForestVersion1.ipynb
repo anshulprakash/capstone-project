{
 "cells": [
  {
   "cell_type": "code",
   "execution_count": 1,
   "metadata": {
    "_cell_guid": "3b8e9e2e-70dd-4c76-b935-0c70ec39c65d",
    "_uuid": "10551519d7cd6026652bc411117adba09dbf7278"
   },
   "outputs": [
    {
     "name": "stdout",
     "output_type": "stream",
     "text": [
      "0.18.2\n"
     ]
    }
   ],
   "source": [
    "### IMPORTING REQUIRED PACKAGES\n",
    "\n",
    "import pandas as pd\n",
    "import numpy as np\n",
    "import matplotlib.pyplot as plt\n",
    "\n",
    "# machine learning modules\n",
    "import sklearn\n",
    "print(sklearn.__version__)\n",
    "from sklearn.ensemble import RandomForestClassifier\n",
    "from sklearn.model_selection import train_test_split, KFold, cross_val_score\n",
    "from sklearn import metrics\n",
    "from sklearn.metrics import roc_auc_score"
   ]
  },
  {
   "cell_type": "code",
   "execution_count": 2,
   "metadata": {
    "_cell_guid": "bd703946-079c-420a-ac73-3245e18684bc",
    "_uuid": "c613a87e9b0055318679f45d619a14b5f29cf624",
    "collapsed": true
   },
   "outputs": [],
   "source": [
    "#### LOADING DATA ####\n",
    "### TRAIN DATA\n",
    "train_data = pd.read_csv(\"train.csv\", na_values='-1')\n",
    "                        \n",
    "## Filling the missing data NAN with median of the column\n",
    "train_data_nato_median = pd.DataFrame()\n",
    "for column in train_data.columns:\n",
    "    train_data_nato_median[column] = train_data[column].fillna(train_data[column].median())\n",
    "\n",
    "train_data = train_data_nato_median.copy()\n",
    "\n",
    "### TEST DATA\n",
    "test_data = pd.read_csv(\"test.csv\", na_values='-1')\n",
    "## Filling the missing data NAN with mean of the column\n",
    "test_data_nato_median = pd.DataFrame()\n",
    "for column in test_data.columns:\n",
    "    test_data_nato_median[column] = test_data[column].fillna(test_data[column].median())\n",
    "    \n",
    "test_data = test_data_nato_median.copy()\n",
    "test_data_id = test_data.pop('id')"
   ]
  },
  {
   "cell_type": "code",
   "execution_count": 3,
   "metadata": {
    "_cell_guid": "040fd51a-9ed5-4d46-81bd-b03effc5e44a",
    "_uuid": "62ccdbaeb6cea102e37748d21b327d474e7be5e0",
    "collapsed": true
   },
   "outputs": [],
   "source": [
    "## Identifying Categorical data\n",
    "column_names = train_data.columns\n",
    "categorical_column = column_names[column_names.str[10] == 'c']\n",
    "\n",
    "## Changing categorical columns to category data type\n",
    "def int_to_categorical(data):\n",
    "    \"\"\" \n",
    "    changing columns to catgorical data type\n",
    "    \"\"\"\n",
    "    for column in categorical_column:\n",
    "        data[column] =  data[column].astype('category')\n"
   ]
  },
  {
   "cell_type": "code",
   "execution_count": 4,
   "metadata": {
    "_cell_guid": "fc4883c5-c289-44d6-af0b-e03b9a48fd30",
    "_uuid": "dcbfe74a8ea0d326fffc0e3a8b998eb4e8e7429f"
   },
   "outputs": [
    {
     "name": "stdout",
     "output_type": "stream",
     "text": [
      "ps_ind_01            int64\n",
      "ps_ind_02_cat     category\n",
      "ps_ind_03            int64\n",
      "ps_ind_04_cat     category\n",
      "ps_ind_05_cat     category\n",
      "ps_ind_06_bin        int64\n",
      "ps_ind_07_bin        int64\n",
      "ps_ind_08_bin        int64\n",
      "ps_ind_09_bin        int64\n",
      "ps_ind_10_bin        int64\n",
      "ps_ind_11_bin        int64\n",
      "ps_ind_12_bin        int64\n",
      "ps_ind_13_bin        int64\n",
      "ps_ind_14            int64\n",
      "ps_ind_15            int64\n",
      "ps_ind_16_bin        int64\n",
      "ps_ind_17_bin        int64\n",
      "ps_ind_18_bin        int64\n",
      "ps_reg_01          float64\n",
      "ps_reg_02          float64\n",
      "ps_reg_03          float64\n",
      "ps_car_01_cat     category\n",
      "ps_car_02_cat     category\n",
      "ps_car_03_cat     category\n",
      "ps_car_04_cat     category\n",
      "ps_car_05_cat     category\n",
      "ps_car_06_cat     category\n",
      "ps_car_07_cat     category\n",
      "ps_car_08_cat     category\n",
      "ps_car_09_cat     category\n",
      "ps_car_10_cat     category\n",
      "ps_car_11_cat     category\n",
      "ps_car_11          float64\n",
      "ps_car_12          float64\n",
      "ps_car_13          float64\n",
      "ps_car_14          float64\n",
      "ps_car_15          float64\n",
      "ps_calc_01         float64\n",
      "ps_calc_02         float64\n",
      "ps_calc_03         float64\n",
      "ps_calc_04           int64\n",
      "ps_calc_05           int64\n",
      "ps_calc_06           int64\n",
      "ps_calc_07           int64\n",
      "ps_calc_08           int64\n",
      "ps_calc_09           int64\n",
      "ps_calc_10           int64\n",
      "ps_calc_11           int64\n",
      "ps_calc_12           int64\n",
      "ps_calc_13           int64\n",
      "ps_calc_14           int64\n",
      "ps_calc_15_bin       int64\n",
      "ps_calc_16_bin       int64\n",
      "ps_calc_17_bin       int64\n",
      "ps_calc_18_bin       int64\n",
      "ps_calc_19_bin       int64\n",
      "ps_calc_20_bin       int64\n",
      "dtype: object\n"
     ]
    }
   ],
   "source": [
    "## Creating list of train and test data and converting columns of interest to categorical type\n",
    "datas = [train_data,test_data]\n",
    "\n",
    "for data in datas:\n",
    "    int_to_categorical(data)\n",
    "\n",
    "print(test_data.dtypes)"
   ]
  },
  {
   "cell_type": "code",
   "execution_count": 5,
   "metadata": {
    "_cell_guid": "79d177cd-cfb7-4724-aa38-a213bc642a84",
    "_uuid": "5967862ce5966de4983bbac43566cbb45102bd55",
    "collapsed": true
   },
   "outputs": [],
   "source": [
    "\n",
    "### FUNCTION TO CREATE DUMMIES COLUMNS FOR CATEGORICAL VARIABLES\n",
    "def creating_dummies(data):\n",
    "    \"\"\"creating dummies columns categorical varibles\n",
    "    \"\"\"\n",
    "    for column in categorical_column:\n",
    "        dummies = pd.get_dummies(data[column],prefix=column)\n",
    "        data = pd.concat([data,dummies],axis =1)\n",
    "        ## dropping the original columns ##\n",
    "        data.drop([column],axis=1,inplace= True)"
   ]
  },
  {
   "cell_type": "code",
   "execution_count": 6,
   "metadata": {
    "_cell_guid": "b9dcc2c1-d657-423d-a48e-ce2f7ef896bf",
    "_uuid": "3d1133dba05d8fab48eb762369f83ef5e548e9e9"
   },
   "outputs": [
    {
     "name": "stdout",
     "output_type": "stream",
     "text": [
      "(595212, 220)\n",
      "(892816, 218)\n"
     ]
    }
   ],
   "source": [
    "\n",
    "### CREATING DUMMIES FOR CATEGORICAL VARIABLES  \n",
    "for column in categorical_column:\n",
    "        dummies = pd.get_dummies(train_data[column],prefix=column)\n",
    "        train_data = pd.concat([train_data,dummies],axis =1)\n",
    "        train_data.drop([column],axis=1,inplace= True)\n",
    "\n",
    "\n",
    "for column in categorical_column:\n",
    "        dummies = pd.get_dummies(test_data[column],prefix=column)\n",
    "        test_data = pd.concat([test_data,dummies],axis =1)\n",
    "        test_data.drop([column],axis=1,inplace= True)\n",
    "\n",
    "print(train_data.shape)\n",
    "print(test_data.shape)"
   ]
  },
  {
   "cell_type": "code",
   "execution_count": 7,
   "metadata": {
    "_cell_guid": "4971e511-a002-4d7e-80d7-086931e4ee77",
    "_uuid": "efa03b2f2f67941caa908bbfa61b21af4c10c39c",
    "scrolled": true
   },
   "outputs": [
    {
     "name": "stdout",
     "output_type": "stream",
     "text": [
      "(595212, 218)\n",
      "(595212L,)\n"
     ]
    }
   ],
   "source": [
    "#Define covariates in X and dependent variable in y\n",
    "X = train_data.iloc[:,2:] ## FEATURE DATA\n",
    "y= train_data.target ### LABEL DATA\n",
    "\n",
    "### CHECKING DIMENSIONS\n",
    "print(X.shape)\n",
    "print(y.shape)"
   ]
  },
  {
   "cell_type": "code",
   "execution_count": 8,
   "metadata": {
    "_cell_guid": "45e0acc2-25f6-461f-8062-580ac814a93c",
    "_uuid": "733c9c2840814efa3b45ad960a393e34197b5132",
    "collapsed": true
   },
   "outputs": [],
   "source": [
    "#### SPLITTING DATA INTO TRAIN AND TEST SETS\n",
    "X_train, X_test, y_train, y_test = train_test_split(X, y, random_state=13)\n",
    "\n",
    "\n",
    "### RANDOM FOREST CLASSIFIER\n",
    "\n",
    "\"\"\"\n",
    "number of estimators: 250\n",
    "out of bagging set to True\n",
    "N_jobs: Use all the available cores= -1\n",
    "min_sample_leaf: minimum number of samples required to be at a leaf node\n",
    "\"\"\"\n",
    "RF_model_cat= RandomForestClassifier(200,oob_score=True,random_state=13,\n",
    "                                     n_jobs = -1, min_samples_leaf = 100)"
   ]
  },
  {
   "cell_type": "code",
   "execution_count": 9,
   "metadata": {
    "_cell_guid": "89f4c42d-7222-4485-a577-fd0847f6aec3",
    "_uuid": "7b8f4459358239f04d3f28bbab7db3ec03a6c575",
    "collapsed": true
   },
   "outputs": [],
   "source": [
    "def plot_confusion_matrix(cm, classes,\n",
    "                          normalize=False,\n",
    "                          title='Confusion matrix',\n",
    "                          cmap=plt.cm.Blues):\n",
    "    \"\"\"\n",
    "    This function prints and plots the confusion matrix.\n",
    "    Normalization can be applied by setting `normalize=True`.\n",
    "    \"\"\"\n",
    "    if normalize:\n",
    "        cm = cm.astype('float') / cm.sum(axis=1)[:, np.newaxis]\n",
    "        print(\"Normalized confusion matrix\")\n",
    "    else:\n",
    "        print('Confusion matrix, without normalization')\n",
    "\n",
    "    print(cm)\n",
    "\n",
    "    plt.imshow(cm, interpolation='nearest', cmap=cmap)\n",
    "    plt.title(title)\n",
    "    plt.colorbar()\n",
    "    tick_marks = np.arange(len(classes))\n",
    "    plt.xticks(tick_marks, classes, rotation=45)\n",
    "    plt.yticks(tick_marks, classes)\n",
    "\n",
    "    fmt = '.2f' if normalize else 'd'\n",
    "    thresh = cm.max() / 2.\n",
    "    for i, j in itertools.product(range(cm.shape[0]), range(cm.shape[1])):\n",
    "        plt.text(j, i, format(cm[i, j], fmt),\n",
    "                 horizontalalignment=\"center\",\n",
    "                 color=\"white\" if cm[i, j] > thresh else \"black\")\n",
    "\n",
    "    plt.tight_layout()\n",
    "    plt.ylabel('True label')\n",
    "    plt.xlabel('Predicted label')"
   ]
  },
  {
   "cell_type": "code",
   "execution_count": 10,
   "metadata": {
    "_cell_guid": "7eb378b6-2519-486b-8116-531627947113",
    "_uuid": "0010cca3e7962b59a12f4f294d84edd979404aa7"
   },
   "outputs": [
    {
     "name": "stdout",
     "output_type": "stream",
     "text": [
      "('Predicted probabilities: \\n', array([[ 0.97157923,  0.02842077],\n",
      "       [ 0.96437336,  0.03562664],\n",
      "       [ 0.97800145,  0.02199855],\n",
      "       ..., \n",
      "       [ 0.97366796,  0.02633204],\n",
      "       [ 0.97002314,  0.02997686],\n",
      "       [ 0.96523639,  0.03476361]]))\n",
      "('Predicted classes: \\n', array([0, 0, 0, ..., 0, 0, 0], dtype=int64))\n",
      "('RF Score: ', 0.96337439433344763)\n",
      "[[143353      0]\n",
      " [  5450      0]]\n"
     ]
    }
   ],
   "source": [
    "### FITTING RANDOM MODEL \n",
    "RF_model_cat.fit(X_train, y_train)\n",
    "\n",
    "#Obtain class predictions\n",
    "y_pred_RF_prob = RF_model_cat.predict_proba(X_test)\n",
    "print('Predicted probabilities: \\n', y_pred_RF_prob)\n",
    "\n",
    "#Obtain probability predictions\n",
    "y_pred_RF_class = RF_model_cat.predict(X_test)\n",
    "print('Predicted classes: \\n', y_pred_RF_class)\n",
    "\n",
    "print('RF Score: ', metrics.accuracy_score(y_test, y_pred_RF_class))\n",
    "\n",
    "## CONFUSION MATRIX\n",
    "RF_cm=metrics.confusion_matrix(y_test,y_pred_RF_class)\n",
    "print(RF_cm)"
   ]
  },
  {
   "cell_type": "code",
   "execution_count": 11,
   "metadata": {
    "_cell_guid": "d6f288a1-e47d-403a-91b7-eae1fa1af2ee",
    "_uuid": "0ec7ed7f97f4faf41b52c79ca5e1ab4a30371699"
   },
   "outputs": [
    {
     "name": "stdout",
     "output_type": "stream",
     "text": [
      "Confusion matrix, without normalization\n",
      "[[143353      0]\n",
      " [  5450      0]]\n"
     ]
    },
    {
     "data": {
      "image/png": "[encoded data removed]",
      "text/plain": [
       "<matplotlib.figure.Figure at 0x11de1f98>"
      ]
     },
     "metadata": {},
     "output_type": "display_data"
    }
   ],
   "source": [
    "import itertools\n",
    "plt.figure()\n",
    "class_names = np.array(['0', '1'])\n",
    "plot_confusion_matrix(RF_cm, classes=class_names, normalize=False,\n",
    "                      title='Confusion matrix')\n",
    "\n",
    "plt.show()"
   ]
  },
  {
   "cell_type": "code",
   "execution_count": 12,
   "metadata": {
    "_cell_guid": "1bc789d9-b7d2-46e7-ac8d-53c2acfd5e3d",
    "_uuid": "51759fa4973094f501e5bb43c7cc7fa06e931abf",
    "collapsed": true
   },
   "outputs": [],
   "source": [
    "#### Predicition on test data ####\n",
    "y_pred_RF_prob = RF_model_cat.predict_proba(test_data)\n",
    "pred_values= pd.DataFrame(y_pred_RF_prob)\n",
    "\n",
    "submission_simple_RF= pd.DataFrame()\n",
    "submission_simple_RF['id'] = test_data_id\n",
    "\n",
    "submission_simple_RF['target'] = pd.DataFrame(pred_values.iloc[:,1])\n",
    "submission_simple_RF = submission_simple_RF.set_index('id')\n",
    "\n",
    "submission_simple_RF.columns\n",
    "submission_simple_RF.head()\n",
    "## Write to CSV\n",
    "submission_simple_RF.to_csv(\"randomForestVersion1.csv\")\n",
    "\n",
    "# score of 0.265"
   ]
  }
 ],
 "metadata": {
  "kernelspec": {
   "display_name": "Python 2",
   "language": "python",
   "name": "python2"
  },
  "language_info": {
   "codemirror_mode": {
    "name": "ipython",
    "version": 2
   },
   "file_extension": ".py",
   "mimetype": "text/x-python",
   "name": "python",
   "nbconvert_exporter": "python",
   "pygments_lexer": "ipython2",
   "version": "2.7.13"
  }
 },
 "nbformat": 4,
 "nbformat_minor": 1
}
