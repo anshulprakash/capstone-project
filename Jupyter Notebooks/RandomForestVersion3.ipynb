{
 "cells": [
  {
   "cell_type": "code",
   "execution_count": 1,
   "metadata": {
    "_cell_guid": "11a94a0f-51f3-4a15-8bad-eac68cc1027b",
    "_uuid": "25b75a696ea90285e26b08e748a386f0151321d0"
   },
   "outputs": [
    {
     "name": "stdout",
     "output_type": "stream",
     "text": [
      "0.18.2\n"
     ]
    }
   ],
   "source": [
    "### IMPORTING REQUIRED PACKAGES\n",
    "\n",
    "import pandas as pd\n",
    "import numpy as np\n",
    "import matplotlib.pyplot as plt\n",
    "\n",
    "# machine learning modules\n",
    "import sklearn\n",
    "print(sklearn.__version__)\n",
    "from sklearn.ensemble import RandomForestClassifier\n",
    "from sklearn.model_selection import train_test_split, KFold, cross_val_score\n",
    "from sklearn import metrics\n",
    "from sklearn.metrics import roc_auc_score\n",
    "from xgboost import XGBClassifier\n",
    "from sklearn.utils import shuffle"
   ]
  },
  {
   "cell_type": "code",
   "execution_count": 2,
   "metadata": {
    "_cell_guid": "eeb4f5bb-aa18-4d69-8579-36d4cc46d6a5",
    "_uuid": "8ce8349460fae8dad550435669bf21cddbd4840e"
   },
   "outputs": [
    {
     "name": "stdout",
     "output_type": "stream",
     "text": [
      "(595212, 59)\n",
      "(892816, 58)\n"
     ]
    }
   ],
   "source": [
    "#### LOADING DATA ####\n",
    "\n",
    "train_data = pd.read_csv(\"train.csv\", na_values='-1')\n",
    "test_data = pd.read_csv(\"test.csv\", na_values='-1')\n",
    "print(train_data.shape)\n",
    "print(test_data.shape)"
   ]
  },
  {
   "cell_type": "code",
   "execution_count": 3,
   "metadata": {
    "_cell_guid": "c586c5ac-fc59-4b2b-881c-106e54dd1602",
    "_uuid": "23227f51f9ff488710a44368108da95b2c754f7c"
   },
   "outputs": [
    {
     "name": "stdout",
     "output_type": "stream",
     "text": [
      "Rate to undersample records with target=0: 0.340435696874\n",
      "Number of records with target=0 after undersampling: 195246\n"
     ]
    }
   ],
   "source": [
    "desired_apriori=0.10\n",
    "\n",
    "# Get the indices per target value\n",
    "idx_0 = train_data[train_data.target == 0].index\n",
    "idx_1 = train_data[train_data.target == 1].index\n",
    "\n",
    "# Get original number of records per target value\n",
    "nb_0 = len(train_data.loc[idx_0])\n",
    "nb_1 = len(train_data.loc[idx_1])\n",
    "\n",
    "# Calculate the undersampling rate and resulting number of records with target=0\n",
    "undersampling_rate = ((1-desired_apriori)*nb_1)/(nb_0*desired_apriori)\n",
    "undersampled_nb_0 = int(undersampling_rate*nb_0)\n",
    "print('Rate to undersample records with target=0: {}'.format(undersampling_rate))\n",
    "print('Number of records with target=0 after undersampling: {}'.format(undersampled_nb_0))\n",
    "\n",
    "# Randomly select records with target=0 to get at the desired a priori\n",
    "undersampled_idx = shuffle(idx_0, random_state=37, n_samples=undersampled_nb_0)\n",
    "\n",
    "# Construct list with remaining indices\n",
    "idx_list = list(undersampled_idx) + list(idx_1)\n",
    "\n",
    "# Return undersample data frame\n",
    "train_data = train_data.loc[idx_list].reset_index(drop=True)"
   ]
  },
  {
   "cell_type": "code",
   "execution_count": 4,
   "metadata": {
    "_cell_guid": "f01ea844-73db-4c31-9f9a-05c1763d86f6",
    "_uuid": "ec3564b47c06f574577512e9ff6ce7f50afb2678",
    "collapsed": true
   },
   "outputs": [],
   "source": [
    "## Filling the missing data NAN with median of the column\n",
    "train_data_nato_median = pd.DataFrame()\n",
    "for column in train_data.columns:\n",
    "    train_data_nato_median[column] = train_data[column].fillna(train_data[column].median())\n",
    "\n",
    "train_data = train_data_nato_median.copy()\n",
    "\n",
    "## Filling the missing data NAN with mean of the column\n",
    "test_data_nato_median = pd.DataFrame()\n",
    "for column in test_data.columns:\n",
    "    test_data_nato_median[column] = test_data[column].fillna(test_data[column].median())\n",
    "    \n",
    "test_data = test_data_nato_median.copy()\n",
    "test_data_id = test_data.pop('id')"
   ]
  },
  {
   "cell_type": "code",
   "execution_count": 5,
   "metadata": {
    "_cell_guid": "e1dc4a74-2089-4d45-aed6-61c79bc03cbb",
    "_uuid": "89833e9d7615668dc07a21ebe755536a8a9c0d7f",
    "collapsed": true
   },
   "outputs": [],
   "source": [
    "## Identifying Categorical data\n",
    "column_names = train_data.columns\n",
    "categorical_column = column_names[column_names.str[10] == 'c']\n",
    "\n",
    "## Changing categorical columns to category data type\n",
    "def int_to_categorical(data):\n",
    "    \"\"\" \n",
    "    changing columns to catgorical data type\n",
    "    \"\"\"\n",
    "    for column in categorical_column:\n",
    "        data[column] =  data[column].astype('category')"
   ]
  },
  {
   "cell_type": "code",
   "execution_count": 6,
   "metadata": {
    "_cell_guid": "e82c7b21-3d12-4ab0-b268-688185a8459a",
    "_uuid": "9b0bcae90d70eeb894eec0c7b0fd46eea17f7b6d"
   },
   "outputs": [
    {
     "name": "stdout",
     "output_type": "stream",
     "text": [
      "ps_ind_01            int64\n",
      "ps_ind_02_cat     category\n",
      "ps_ind_03            int64\n",
      "ps_ind_04_cat     category\n",
      "ps_ind_05_cat     category\n",
      "ps_ind_06_bin        int64\n",
      "ps_ind_07_bin        int64\n",
      "ps_ind_08_bin        int64\n",
      "ps_ind_09_bin        int64\n",
      "ps_ind_10_bin        int64\n",
      "ps_ind_11_bin        int64\n",
      "ps_ind_12_bin        int64\n",
      "ps_ind_13_bin        int64\n",
      "ps_ind_14            int64\n",
      "ps_ind_15            int64\n",
      "ps_ind_16_bin        int64\n",
      "ps_ind_17_bin        int64\n",
      "ps_ind_18_bin        int64\n",
      "ps_reg_01          float64\n",
      "ps_reg_02          float64\n",
      "ps_reg_03          float64\n",
      "ps_car_01_cat     category\n",
      "ps_car_02_cat     category\n",
      "ps_car_03_cat     category\n",
      "ps_car_04_cat     category\n",
      "ps_car_05_cat     category\n",
      "ps_car_06_cat     category\n",
      "ps_car_07_cat     category\n",
      "ps_car_08_cat     category\n",
      "ps_car_09_cat     category\n",
      "ps_car_10_cat     category\n",
      "ps_car_11_cat     category\n",
      "ps_car_11          float64\n",
      "ps_car_12          float64\n",
      "ps_car_13          float64\n",
      "ps_car_14          float64\n",
      "ps_car_15          float64\n",
      "ps_calc_01         float64\n",
      "ps_calc_02         float64\n",
      "ps_calc_03         float64\n",
      "ps_calc_04           int64\n",
      "ps_calc_05           int64\n",
      "ps_calc_06           int64\n",
      "ps_calc_07           int64\n",
      "ps_calc_08           int64\n",
      "ps_calc_09           int64\n",
      "ps_calc_10           int64\n",
      "ps_calc_11           int64\n",
      "ps_calc_12           int64\n",
      "ps_calc_13           int64\n",
      "ps_calc_14           int64\n",
      "ps_calc_15_bin       int64\n",
      "ps_calc_16_bin       int64\n",
      "ps_calc_17_bin       int64\n",
      "ps_calc_18_bin       int64\n",
      "ps_calc_19_bin       int64\n",
      "ps_calc_20_bin       int64\n",
      "dtype: object\n"
     ]
    }
   ],
   "source": [
    "## Creating list of train and test data and converting columns of interest to categorical type\n",
    "datas = [train_data,test_data]\n",
    "\n",
    "for data in datas:\n",
    "    int_to_categorical(data)\n",
    "\n",
    "print(test_data.dtypes)"
   ]
  },
  {
   "cell_type": "code",
   "execution_count": 7,
   "metadata": {
    "_cell_guid": "1636d22f-d902-49aa-8ce3-13cb3c64a899",
    "_uuid": "e772439343903f994786bd78ce550fd87336af39",
    "collapsed": true
   },
   "outputs": [],
   "source": [
    "### FUNCTION TO CREATE DUMMIES COLUMNS FOR CATEGORICAL VARIABLES\n",
    "def creating_dummies(data):\n",
    "    \"\"\"creating dummies columns categorical varibles\n",
    "    \"\"\"\n",
    "    for column in categorical_column:\n",
    "        dummies = pd.get_dummies(data[column],prefix=column)\n",
    "        data = pd.concat([data,dummies],axis =1)\n",
    "        ## dropping the original columns ##\n",
    "        data.drop([column],axis=1,inplace= True)"
   ]
  },
  {
   "cell_type": "code",
   "execution_count": 8,
   "metadata": {
    "_cell_guid": "57eb3a0d-f592-4b6f-9914-43f5b32702a5",
    "_uuid": "c59a0d5d315034b314f8447eb1906aa054722427"
   },
   "outputs": [
    {
     "name": "stdout",
     "output_type": "stream",
     "text": [
      "(216940, 220)\n",
      "(892816, 218)\n"
     ]
    }
   ],
   "source": [
    "### CREATING DUMMIES FOR CATEGORICAL VARIABLES  \n",
    "for column in categorical_column:\n",
    "        dummies = pd.get_dummies(train_data[column],prefix=column)\n",
    "        train_data = pd.concat([train_data,dummies],axis =1)\n",
    "        train_data.drop([column],axis=1,inplace= True)\n",
    "\n",
    "\n",
    "for column in categorical_column:\n",
    "        dummies = pd.get_dummies(test_data[column],prefix=column)\n",
    "        test_data = pd.concat([test_data,dummies],axis =1)\n",
    "        test_data.drop([column],axis=1,inplace= True)\n",
    "\n",
    "print(train_data.shape)\n",
    "print(test_data.shape)"
   ]
  },
  {
   "cell_type": "code",
   "execution_count": 9,
   "metadata": {
    "_cell_guid": "b7a4cde2-4fdc-40f2-9d81-a5189accc625",
    "_uuid": "4ccad20b5f7d03ffce35f39b65d38b3debddede8"
   },
   "outputs": [
    {
     "name": "stdout",
     "output_type": "stream",
     "text": [
      "(216940, 218)\n",
      "(216940L,)\n"
     ]
    }
   ],
   "source": [
    "#Define covariates in X and dependent variable in y\n",
    "X = train_data.iloc[:,2:] ## FEATURE DATA\n",
    "y= train_data.target ### LABEL DATA\n",
    "\n",
    "### CHECKING DIMENSIONS\n",
    "print(X.shape)\n",
    "print(y.shape)"
   ]
  },
  {
   "cell_type": "code",
   "execution_count": 10,
   "metadata": {
    "_cell_guid": "3b621343-11b4-466a-aa98-ed74c0b8827d",
    "_uuid": "947c025749b8139be2b90a17da1f50b3fca24670",
    "collapsed": true
   },
   "outputs": [],
   "source": [
    "#### SPLITTING DATA INTO TRAIN AND TEST SETS\n",
    "X_train, X_test, y_train, y_test = train_test_split(X, y, random_state=13)"
   ]
  },
  {
   "cell_type": "code",
   "execution_count": 11,
   "metadata": {
    "_cell_guid": "d476a833-f8d2-41ac-bdfe-d7c036351a0d",
    "_uuid": "755e49f4fa80853dc7c50679355ec6330e93172f",
    "collapsed": true
   },
   "outputs": [],
   "source": [
    "### RANDOM FOREST CLASSIFIER\n",
    "\"\"\"\n",
    "number of estimators: 250\n",
    "out of bagging set to True\n",
    "N_jobs: Use all the available cores= -1\n",
    "min_sample_leaf: minimum number of samples required to be at a leaf node\n",
    "\"\"\"\n",
    "RF_model_cat= RandomForestClassifier(250,oob_score=True,random_state=13,n_jobs = -1, min_samples_leaf = 100)"
   ]
  },
  {
   "cell_type": "code",
   "execution_count": 12,
   "metadata": {
    "_cell_guid": "6ff1863b-324c-418c-b210-21e160d84e81",
    "_uuid": "72e6dac1bc0c2031d37101006e972da22c2196b8"
   },
   "outputs": [
    {
     "name": "stdout",
     "output_type": "stream",
     "text": [
      "('Predicted probabilities: \\n', array([[ 0.93327637,  0.06672363],\n",
      "       [ 0.89636201,  0.10363799],\n",
      "       [ 0.94349682,  0.05650318],\n",
      "       ..., \n",
      "       [ 0.9239581 ,  0.0760419 ],\n",
      "       [ 0.91504185,  0.08495815],\n",
      "       [ 0.8749894 ,  0.1250106 ]]))\n",
      "('Predicted classes: \\n', array([0, 0, 0, ..., 0, 0, 0], dtype=int64))\n",
      "('RF Score: ', 0.90166866414676872)\n",
      "[[48902     0]\n",
      " [ 5333     0]]\n"
     ]
    }
   ],
   "source": [
    "### FITTING RANDOM MODEL \n",
    "RF_model_cat.fit(X_train, y_train)\n",
    "\n",
    "#Obtain class predictions\n",
    "y_pred_RF_prob = RF_model_cat.predict_proba(X_test)\n",
    "print('Predicted probabilities: \\n', y_pred_RF_prob)\n",
    "\n",
    "#Obtain probability predictions\n",
    "y_pred_RF_class = RF_model_cat.predict(X_test)\n",
    "print('Predicted classes: \\n', y_pred_RF_class)\n",
    "\n",
    "print('RF Score: ', metrics.accuracy_score(y_test, y_pred_RF_class))\n",
    "\n",
    "## CONFUSION MATRIX\n",
    "RF_cm=metrics.confusion_matrix(y_test,y_pred_RF_class)\n",
    "print(RF_cm)"
   ]
  },
  {
   "cell_type": "code",
   "execution_count": 13,
   "metadata": {
    "_cell_guid": "172855a0-a241-4f0b-8c60-2a2c773849ee",
    "_uuid": "047c7f3dc36c821a847170e8efdb92293741aeed",
    "collapsed": true
   },
   "outputs": [],
   "source": [
    "def plot_confusion_matrix(cm, classes,\n",
    "                          normalize=False,\n",
    "                          title='Confusion matrix',\n",
    "                          cmap=plt.cm.Blues):\n",
    "    \"\"\"\n",
    "    This function prints and plots the confusion matrix.\n",
    "    Normalization can be applied by setting `normalize=True`.\n",
    "    \"\"\"\n",
    "    if normalize:\n",
    "        cm = cm.astype('float') / cm.sum(axis=1)[:, np.newaxis]\n",
    "        print(\"Normalized confusion matrix\")\n",
    "    else:\n",
    "        print('Confusion matrix, without normalization')\n",
    "\n",
    "    print(cm)\n",
    "\n",
    "    plt.imshow(cm, interpolation='nearest', cmap=cmap)\n",
    "    plt.title(title)\n",
    "    plt.colorbar()\n",
    "    tick_marks = np.arange(len(classes))\n",
    "    plt.xticks(tick_marks, classes, rotation=45)\n",
    "    plt.yticks(tick_marks, classes)\n",
    "\n",
    "    fmt = '.2f' if normalize else 'd'\n",
    "    thresh = cm.max() / 2.\n",
    "    for i, j in itertools.product(range(cm.shape[0]), range(cm.shape[1])):\n",
    "        plt.text(j, i, format(cm[i, j], fmt),\n",
    "                 horizontalalignment=\"center\",\n",
    "                 color=\"white\" if cm[i, j] > thresh else \"black\")\n",
    "\n",
    "    plt.tight_layout()\n",
    "    plt.ylabel('True label')\n",
    "    plt.xlabel('Predicted label')"
   ]
  },
  {
   "cell_type": "code",
   "execution_count": 14,
   "metadata": {
    "_cell_guid": "0b31202d-12fa-490b-8fe5-476390e7033b",
    "_uuid": "5de2508643e69f23670cc1c121b59c8820797ace"
   },
   "outputs": [
    {
     "name": "stdout",
     "output_type": "stream",
     "text": [
      "Confusion matrix, without normalization\n",
      "[[48902     0]\n",
      " [ 5333     0]]\n"
     ]
    },
    {
     "data": {
      "image/png": "[encoded data removed]",
      "text/plain": [
       "<matplotlib.figure.Figure at 0x2537e2e8>"
      ]
     },
     "metadata": {},
     "output_type": "display_data"
    }
   ],
   "source": [
    "import itertools\n",
    "plt.figure()\n",
    "class_names = np.array(['0', '1'])\n",
    "plot_confusion_matrix(RF_cm, classes=class_names, normalize=False,\n",
    "                      title='Confusion matrix')\n",
    "\n",
    "plt.show()"
   ]
  },
  {
   "cell_type": "code",
   "execution_count": 15,
   "metadata": {
    "_cell_guid": "19705c40-d6ef-429d-aa3e-aff26e28a3fc",
    "_uuid": "75b2e5c3d41342384126de3713985d5d84599a09",
    "collapsed": true
   },
   "outputs": [],
   "source": [
    "#### Predicition on test data ####\n",
    "y_pred_RF_prob = RF_model_cat.predict_proba(test_data)\n",
    "pred_values= pd.DataFrame(y_pred_RF_prob)\n",
    "\n",
    "submission_simple_RF= pd.DataFrame()\n",
    "submission_simple_RF['id'] = test_data_id\n",
    "\n",
    "submission_simple_RF['target'] = pd.DataFrame(pred_values.iloc[:,1])\n",
    "submission_simple_RF = submission_simple_RF.set_index('id')\n",
    "\n",
    "submission_simple_RF.columns\n",
    "submission_simple_RF.head()\n",
    "## Write to CSV\n",
    "submission_simple_RF.to_csv(\"randomForestVersion3.csv\")\n",
    "#Score of 0.26026"
   ]
  }
 ],
 "metadata": {
  "kernelspec": {
   "display_name": "Python 2",
   "language": "python",
   "name": "python2"
  },
  "language_info": {
   "codemirror_mode": {
    "name": "ipython",
    "version": 2
   },
   "file_extension": ".py",
   "mimetype": "text/x-python",
   "name": "python",
   "nbconvert_exporter": "python",
   "pygments_lexer": "ipython2",
   "version": "2.7.13"
  }
 },
 "nbformat": 4,
 "nbformat_minor": 1
}
